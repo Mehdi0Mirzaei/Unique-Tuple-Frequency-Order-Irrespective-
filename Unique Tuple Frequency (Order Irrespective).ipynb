{
 "cells": [
  {
   "cell_type": "code",
   "execution_count": 16,
   "id": "4a91bd81",
   "metadata": {},
   "outputs": [
    {
     "name": "stdout",
     "output_type": "stream",
     "text": [
      "The original list is : [(3, 4), (1, 2), (4, 3), (5, 6)]\n",
      "Unique tuples Frequency : 3\n"
     ]
    }
   ],
   "source": [
    "# initializing lists\n",
    "test_list = [(3, 4), (1, 2), (4, 3), (5, 6)]\n",
    " \n",
    "# printing original list\n",
    "print(\"The original list is : \" + str(test_list))\n",
    " \n",
    "# Using tuple() + list comprehension + sorted() + len()\n",
    "# Size computed after conversion to set\n",
    "res = len(list(set(tuple(sorted(sub)) for sub in test_list)))\n",
    " \n",
    "# printing result\n",
    "print(\"Unique tuples Frequency : \" + str(res))"
   ]
  },
  {
   "cell_type": "code",
   "execution_count": 17,
   "id": "bf237af5",
   "metadata": {},
   "outputs": [
    {
     "name": "stdout",
     "output_type": "stream",
     "text": [
      "The original list is : [(3, 4), (1, 2), (4, 3), (5, 6)]\n",
      "Unique tuples Frequency : 3\n"
     ]
    }
   ],
   "source": [
    "# initializing lists\n",
    "test_list = [(3, 4), (1, 2), (4, 3), (5, 6)]\n",
    " \n",
    "# printing original list\n",
    "print(\"The original list is : \" + str(test_list))\n",
    " \n",
    "# Using map() + sorted() + tuple() + set() + len()\n",
    "# inner map used to perform sort and outer sort to\n",
    "# convert again in tuple format\n",
    "res = len(list(set(map(tuple, map(sorted, test_list)))))\n",
    " \n",
    "# printing result\n",
    "print(\"Unique tuples Frequency : \" + str(res))"
   ]
  },
  {
   "cell_type": "code",
   "execution_count": 18,
   "id": "2f3acba0",
   "metadata": {},
   "outputs": [
    {
     "name": "stdout",
     "output_type": "stream",
     "text": [
      "The original list is :[(3, 4), (1, 2), (4, 3), (5, 6)]\n",
      "Unique tuples Frequency : 3\n"
     ]
    }
   ],
   "source": [
    "def unique_tuple_frequency(test_list):\n",
    "   \n",
    "    # base case\n",
    "    if len(test_list) == 0:\n",
    "        return 0\n",
    " \n",
    "    # recursive call\n",
    "    rest_freq = unique_tuple_frequency(test_list[1:])\n",
    " # check if the first element is unique\n",
    "    for t in test_list[1:]:\n",
    "        if sorted(test_list[0]) == sorted(t):\n",
    "            return rest_freq\n",
    " # if the first element is unique, add 1 to the frequency\n",
    "    return rest_freq + 1\n",
    " \n",
    " # initializing lists\n",
    "test_list = [(3, 4), (1, 2), (4, 3), (5, 6)]\n",
    " \n",
    "# printing original list\n",
    "print(\"The original list is :\" + str(test_list))\n",
    " \n",
    "# Using map() + sorted() + tuple() + set() + len()\n",
    "# inner map used to perform sort and outer sort to\n",
    "# convert again in tuple format\n",
    "res = unique_tuple_frequency(test_list)\n",
    " \n",
    "# printing result\n",
    "print(\"Unique tuples Frequency : \" + str(res))"
   ]
  },
  {
   "cell_type": "code",
   "execution_count": 19,
   "id": "2a1ee9b3",
   "metadata": {},
   "outputs": [
    {
     "name": "stdout",
     "output_type": "stream",
     "text": [
      "The original list is :[(3, 4), (1, 2), (4, 3), (5, 6)]\n",
      "Unique tuples Frequency : 3\n"
     ]
    }
   ],
   "source": [
    "def unique_tuple_frequency(test_list):\n",
    "   \n",
    "    freq_dict = {}\n",
    "    for tup in test_list:\n",
    "        sorted_tup = tuple(sorted(tup))\n",
    "        if sorted_tup in freq_dict:\n",
    "            freq_dict[sorted_tup] += 1\n",
    "        else:\n",
    "            freq_dict[sorted_tup] = 1\n",
    "    return len(freq_dict)\n",
    " \n",
    "# Initializing lists\n",
    "test_list = [(3, 4), (1, 2), (4, 3), (5, 6)]\n",
    " \n",
    "# Printing original list\n",
    "print(\"The original list is :\" + str(test_list))\n",
    " \n",
    "# Using dictionary and loop\n",
    "res = unique_tuple_frequency(test_list)\n",
    " \n",
    "# Printing result\n",
    "print(\"Unique tuples Frequency : \" + str(res))"
   ]
  },
  {
   "cell_type": "code",
   "execution_count": null,
   "id": "72feaf39",
   "metadata": {},
   "outputs": [],
   "source": []
  }
 ],
 "metadata": {
  "kernelspec": {
   "display_name": "Python 3 (ipykernel)",
   "language": "python",
   "name": "python3"
  },
  "language_info": {
   "codemirror_mode": {
    "name": "ipython",
    "version": 3
   },
   "file_extension": ".py",
   "mimetype": "text/x-python",
   "name": "python",
   "nbconvert_exporter": "python",
   "pygments_lexer": "ipython3",
   "version": "3.9.13"
  }
 },
 "nbformat": 4,
 "nbformat_minor": 5
}
